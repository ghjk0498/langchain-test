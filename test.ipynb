{
 "cells": [
  {
   "metadata": {},
   "cell_type": "markdown",
   "source": [
    "https://python.langchain.com/v0.2/docs/integrations/tools/sql_database/\n",
    "https://github.com/langchain-ai/langchain/blob/master/cookbook/sql_db_qa.mdx"
   ],
   "id": "74265f04f2e18139"
  },
  {
   "metadata": {
    "ExecuteTime": {
     "end_time": "2024-09-03T13:02:48.308771Z",
     "start_time": "2024-09-03T13:02:48.295245Z"
    }
   },
   "cell_type": "code",
   "outputs": [],
   "execution_count": 1,
   "source": [
    "import sqlite3\n",
    "import os\n",
    "\n",
    "if not os.path.exists(\"Chinook.db\"):\n",
    "    # 데이터베이스 연결 생성\n",
    "    conn = sqlite3.connect('Chinook.db')\n",
    "\n",
    "    # SQL 파일 읽기\n",
    "    with open('Chinook_Sqlite.sql', 'r', encoding='utf-8') as sql_file:\n",
    "        sql_script = sql_file.read()\n",
    "\n",
    "    # SQL 명령 실행\n",
    "    cursor = conn.cursor()\n",
    "    cursor.executescript(sql_script)\n",
    "    \n",
    "    cursor.execute(\"SELECT name FROM sqlite_master WHERE type='table';\")\n",
    "    tables = cursor.fetchall()\n",
    "    \n",
    "    print(\"생성된 테이블 목록:\")\n",
    "    for table in tables:\n",
    "        print(table[0])\n",
    "\n",
    "    # 변경사항 저장 및 연결 종료\n",
    "    conn.commit()\n",
    "    conn.close()\n",
    "\n",
    "    print(\"Chinook.db 생성이 완료되었습니다.\")"
   ],
   "id": "9a9474d875b3ddc4"
  },
  {
   "metadata": {
    "collapsed": true,
    "ExecuteTime": {
     "end_time": "2024-09-03T13:02:59.742160Z",
     "start_time": "2024-09-03T13:02:58.954086Z"
    }
   },
   "cell_type": "code",
   "source": [
    "import getpass\n",
    "import os\n",
    "\n",
    "if \"OPENAI_API_KEY\" not in os.environ:\n",
    "    os.environ[\"OPENAI_API_KEY\"] = getpass.getpass()\n",
    "\n",
    "from langchain_openai import ChatOpenAI\n",
    "\n",
    "model = ChatOpenAI(model=\"gpt-4\", temperature=0)"
   ],
   "id": "initial_id",
   "outputs": [],
   "execution_count": 3
  },
  {
   "metadata": {
    "ExecuteTime": {
     "end_time": "2024-09-03T13:02:59.864074Z",
     "start_time": "2024-09-03T13:02:59.746160Z"
    }
   },
   "cell_type": "code",
   "source": [
    "from langchain_community.utilities.sql_database import SQLDatabase\n",
    "\n",
    "db = SQLDatabase.from_uri(\"sqlite:///Chinook.db\")"
   ],
   "id": "cf0a7ff8dd1986eb",
   "outputs": [],
   "execution_count": 4
  },
  {
   "metadata": {
    "ExecuteTime": {
     "end_time": "2024-09-03T13:03:00.015180Z",
     "start_time": "2024-09-03T13:02:59.989660Z"
    }
   },
   "cell_type": "code",
   "source": [
    "from langchain_community.agent_toolkits.sql.toolkit import SQLDatabaseToolkit\n",
    "\n",
    "toolkit = SQLDatabaseToolkit(db=db, llm=model)"
   ],
   "id": "d4827f99384ce6e5",
   "outputs": [],
   "execution_count": 5
  },
  {
   "metadata": {
    "ExecuteTime": {
     "end_time": "2024-09-03T13:03:01.612544Z",
     "start_time": "2024-09-03T13:03:00.871604Z"
    }
   },
   "cell_type": "code",
   "source": [
    "from langchain import hub\n",
    "\n",
    "prompt_template = hub.pull(\"langchain-ai/sql-agent-system-prompt\")\n",
    "\n",
    "assert len(prompt_template.messages) == 1\n",
    "print(prompt_template.input_variables)"
   ],
   "id": "27623c3fdebc46ef",
   "outputs": [
    {
     "name": "stderr",
     "output_type": "stream",
     "text": [
      "E:\\git\\langchain-test\\.venv\\lib\\site-packages\\langsmith\\client.py:333: LangSmithMissingAPIKeyWarning: API key must be provided when using hosted LangSmith API\n",
      "  warnings.warn(\n"
     ]
    },
    {
     "name": "stdout",
     "output_type": "stream",
     "text": [
      "['dialect', 'top_k']\n"
     ]
    },
    {
     "name": "stderr",
     "output_type": "stream",
     "text": [
      "E:\\git\\langchain-test\\.venv\\lib\\site-packages\\langsmith\\client.py:5434: LangChainBetaWarning: The function `loads` is in beta. It is actively being worked on, so the API may change.\n",
      "  prompt = loads(json.dumps(prompt_object.manifest))\n"
     ]
    }
   ],
   "execution_count": 6
  },
  {
   "metadata": {
    "ExecuteTime": {
     "end_time": "2024-09-03T13:03:01.903061Z",
     "start_time": "2024-09-03T13:03:01.892550Z"
    }
   },
   "cell_type": "code",
   "source": "system_message = prompt_template.format(dialect=\"PostgreSQL\", top_k=5)",
   "id": "e0a5e4ad52373e6f",
   "outputs": [],
   "execution_count": 7
  },
  {
   "metadata": {
    "ExecuteTime": {
     "end_time": "2024-09-03T13:03:02.990611Z",
     "start_time": "2024-09-03T13:03:02.930790Z"
    }
   },
   "cell_type": "code",
   "source": [
    "from langgraph.prebuilt import create_react_agent\n",
    "\n",
    "agent_executor = create_react_agent(\n",
    "    model, toolkit.get_tools(), state_modifier=system_message\n",
    ")"
   ],
   "id": "34087bd4c85a5d5a",
   "outputs": [],
   "execution_count": 8
  },
  {
   "metadata": {
    "ExecuteTime": {
     "end_time": "2024-09-03T13:05:21.256068Z",
     "start_time": "2024-09-03T13:04:38.022490Z"
    }
   },
   "cell_type": "code",
   "source": [
    "example_query = (\"국가, 도시별 인보이스 총 금액의 합계를 알려줘\")\n",
    "\n",
    "events = agent_executor.stream(\n",
    "    {\"messages\": [(\"user\", example_query)]},\n",
    "    stream_mode=\"values\",\n",
    ")\n",
    "for event in events:\n",
    "    event[\"messages\"][-1].pretty_print()"
   ],
   "id": "892baf0a7a0b75b7",
   "outputs": [
    {
     "name": "stdout",
     "output_type": "stream",
     "text": [
      "================================\u001B[1m Human Message \u001B[0m=================================\n",
      "\n",
      "국가, 도시별 인보이스 총 금액의 합계를 알려줘\n",
      "==================================\u001B[1m Ai Message \u001B[0m==================================\n",
      "\n",
      "먼저, 데이터베이스에 어떤 테이블들이 있는지 확인해야 합니다. 이를 위해 sql_db_list_tables 도구를 사용하겠습니다.\n",
      "Tool Calls:\n",
      "  sql_db_list_tables (call_6TFj91Z4PYjZWjhGqnSjmQnS)\n",
      " Call ID: call_6TFj91Z4PYjZWjhGqnSjmQnS\n",
      "  Args:\n",
      "=================================\u001B[1m Tool Message \u001B[0m=================================\n",
      "Name: sql_db_list_tables\n",
      "\n",
      "Album, Artist, Customer, Employee, Genre, Invoice, InvoiceLine, MediaType, Playlist, PlaylistTrack, Track\n",
      "==================================\u001B[1m Ai Message \u001B[0m==================================\n",
      "\n",
      "데이터베이스에는 다음과 같은 테이블들이 있습니다: Album, Artist, Customer, Employee, Genre, Invoice, InvoiceLine, MediaType, Playlist, PlaylistTrack, Track.\n",
      "\n",
      "국가와 도시별 인보이스 총 금액의 합계를 구하기 위해서는 'Customer' 테이블에서 국가와 도시 정보를 가져오고, 'Invoice' 테이블에서 인보이스 금액을 가져와야 할 것 같습니다. 이 두 테이블의 스키마를 확인해 보겠습니다.\n",
      "Tool Calls:\n",
      "  sql_db_schema (call_3uUnNT8zVYO7NokeiH7pcsKh)\n",
      " Call ID: call_3uUnNT8zVYO7NokeiH7pcsKh\n",
      "  Args:\n",
      "    table_names: Customer, Invoice\n",
      "=================================\u001B[1m Tool Message \u001B[0m=================================\n",
      "Name: sql_db_schema\n",
      "\n",
      "\n",
      "CREATE TABLE \"Customer\" (\n",
      "\t\"CustomerId\" INTEGER NOT NULL, \n",
      "\t\"FirstName\" NVARCHAR(40) NOT NULL, \n",
      "\t\"LastName\" NVARCHAR(20) NOT NULL, \n",
      "\t\"Company\" NVARCHAR(80), \n",
      "\t\"Address\" NVARCHAR(70), \n",
      "\t\"City\" NVARCHAR(40), \n",
      "\t\"State\" NVARCHAR(40), \n",
      "\t\"Country\" NVARCHAR(40), \n",
      "\t\"PostalCode\" NVARCHAR(10), \n",
      "\t\"Phone\" NVARCHAR(24), \n",
      "\t\"Fax\" NVARCHAR(24), \n",
      "\t\"Email\" NVARCHAR(60) NOT NULL, \n",
      "\t\"SupportRepId\" INTEGER, \n",
      "\tPRIMARY KEY (\"CustomerId\"), \n",
      "\tFOREIGN KEY(\"SupportRepId\") REFERENCES \"Employee\" (\"EmployeeId\")\n",
      ")\n",
      "\n",
      "/*\n",
      "3 rows from Customer table:\n",
      "CustomerId\tFirstName\tLastName\tCompany\tAddress\tCity\tState\tCountry\tPostalCode\tPhone\tFax\tEmail\tSupportRepId\n",
      "1\tLuís\tGonçalves\tEmbraer - Empresa Brasileira de Aeronáutica S.A.\tAv. Brigadeiro Faria Lima, 2170\tSão José dos Campos\tSP\tBrazil\t12227-000\t+55 (12) 3923-5555\t+55 (12) 3923-5566\tluisg@embraer.com.br\t3\n",
      "2\tLeonie\tKöhler\tNone\tTheodor-Heuss-Straße 34\tStuttgart\tNone\tGermany\t70174\t+49 0711 2842222\tNone\tleonekohler@surfeu.de\t5\n",
      "3\tFrançois\tTremblay\tNone\t1498 rue Bélanger\tMontréal\tQC\tCanada\tH2G 1A7\t+1 (514) 721-4711\tNone\tftremblay@gmail.com\t3\n",
      "*/\n",
      "\n",
      "\n",
      "CREATE TABLE \"Invoice\" (\n",
      "\t\"InvoiceId\" INTEGER NOT NULL, \n",
      "\t\"CustomerId\" INTEGER NOT NULL, \n",
      "\t\"InvoiceDate\" DATETIME NOT NULL, \n",
      "\t\"BillingAddress\" NVARCHAR(70), \n",
      "\t\"BillingCity\" NVARCHAR(40), \n",
      "\t\"BillingState\" NVARCHAR(40), \n",
      "\t\"BillingCountry\" NVARCHAR(40), \n",
      "\t\"BillingPostalCode\" NVARCHAR(10), \n",
      "\t\"Total\" NUMERIC(10, 2) NOT NULL, \n",
      "\tPRIMARY KEY (\"InvoiceId\"), \n",
      "\tFOREIGN KEY(\"CustomerId\") REFERENCES \"Customer\" (\"CustomerId\")\n",
      ")\n",
      "\n",
      "/*\n",
      "3 rows from Invoice table:\n",
      "InvoiceId\tCustomerId\tInvoiceDate\tBillingAddress\tBillingCity\tBillingState\tBillingCountry\tBillingPostalCode\tTotal\n",
      "1\t2\t2021-01-01 00:00:00\tTheodor-Heuss-Straße 34\tStuttgart\tNone\tGermany\t70174\t1.98\n",
      "2\t4\t2021-01-02 00:00:00\tUllevålsveien 14\tOslo\tNone\tNorway\t0171\t3.96\n",
      "3\t8\t2021-01-03 00:00:00\tGrétrystraat 63\tBrussels\tNone\tBelgium\t1000\t5.94\n",
      "*/\n",
      "==================================\u001B[1m Ai Message \u001B[0m==================================\n",
      "\n",
      "'Customer' 테이블에는 고객의 국가('Country')와 도시('City') 정보가 있으며, 'Invoice' 테이블에는 각 인보이스의 총 금액('Total')이 있습니다. 두 테이블은 'CustomerId'를 통해 연결됩니다.\n",
      "\n",
      "이제 SQL 쿼리를 작성하여 국가와 도시별로 인보이스 총 금액의 합계를 구해보겠습니다. 이 쿼리는 'Customer' 테이블과 'Invoice' 테이블을 'CustomerId'를 기준으로 조인하고, 국가와 도시별로 그룹화하여 총 금액의 합계를 계산합니다. 결과는 총 금액의 합계가 가장 높은 순서로 정렬됩니다. 결과는 최대 5개까지만 표시됩니다.\n",
      "Tool Calls:\n",
      "  sql_db_query_checker (call_nMnqpEf3ZlZXT71kqcE72t3b)\n",
      " Call ID: call_nMnqpEf3ZlZXT71kqcE72t3b\n",
      "  Args:\n",
      "    query: SELECT c.Country, c.City, SUM(i.Total) as TotalSum FROM Customer c JOIN Invoice i ON c.CustomerId = i.CustomerId GROUP BY c.Country, c.City ORDER BY TotalSum DESC LIMIT 5\n",
      "=================================\u001B[1m Tool Message \u001B[0m=================================\n",
      "Name: sql_db_query_checker\n",
      "\n",
      "SELECT c.Country, c.City, SUM(i.Total) as TotalSum FROM Customer c JOIN Invoice i ON c.CustomerId = i.CustomerId GROUP BY c.Country, c.City ORDER BY TotalSum DESC LIMIT 5\n",
      "==================================\u001B[1m Ai Message \u001B[0m==================================\n",
      "Tool Calls:\n",
      "  sql_db_query (call_qycuv0GWPqJRt4dfPjx49QTL)\n",
      " Call ID: call_qycuv0GWPqJRt4dfPjx49QTL\n",
      "  Args:\n",
      "    query: SELECT c.Country, c.City, SUM(i.Total) as TotalSum FROM Customer c JOIN Invoice i ON c.CustomerId = i.CustomerId GROUP BY c.Country, c.City ORDER BY TotalSum DESC LIMIT 5\n",
      "=================================\u001B[1m Tool Message \u001B[0m=================================\n",
      "Name: sql_db_query\n",
      "\n",
      "[('Czech Republic', 'Prague', 90.24000000000001), ('France', 'Paris', 77.24), ('USA', 'Mountain View', 77.23999999999998), ('Germany', 'Berlin', 75.24), ('Brazil', 'São Paulo', 75.23999999999998)]\n",
      "==================================\u001B[1m Ai Message \u001B[0m==================================\n",
      "\n",
      "국가와 도시별로 인보이스 총 금액의 합계는 다음과 같습니다:\n",
      "\n",
      "1. 체코, 프라하: 90.24\n",
      "2. 프랑스, 파리: 77.24\n",
      "3. 미국, 마운틴뷰: 77.24\n",
      "4. 독일, 베를린: 75.24\n",
      "5. 브라질, 상파울루: 75.24\n"
     ]
    }
   ],
   "execution_count": 10
  },
  {
   "metadata": {},
   "cell_type": "code",
   "outputs": [],
   "execution_count": null,
   "source": "",
   "id": "79d665804e5157e9"
  }
 ],
 "metadata": {
  "kernelspec": {
   "display_name": "Python 3",
   "language": "python",
   "name": "python3"
  },
  "language_info": {
   "codemirror_mode": {
    "name": "ipython",
    "version": 2
   },
   "file_extension": ".py",
   "mimetype": "text/x-python",
   "name": "python",
   "nbconvert_exporter": "python",
   "pygments_lexer": "ipython2",
   "version": "2.7.6"
  }
 },
 "nbformat": 4,
 "nbformat_minor": 5
}
